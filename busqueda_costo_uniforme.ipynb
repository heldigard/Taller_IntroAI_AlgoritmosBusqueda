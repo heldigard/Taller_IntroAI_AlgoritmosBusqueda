{
 "cells": [
  {
   "cell_type": "code",
   "metadata": {
    "id": "Pcqfnjl4S4DH",
    "ExecuteTime": {
     "end_time": "2024-04-27T23:05:10.069689Z",
     "start_time": "2024-04-27T23:05:10.065876Z"
    }
   },
   "source": [
    "from grafos import Accion\n",
    "from grafos import Estado\n",
    "from grafos import Nodo\n",
    "from grafos import Problema"
   ],
   "outputs": [],
   "execution_count": 6
  },
  {
   "cell_type": "markdown",
   "metadata": {
    "id": "pUibrkO_S4DI"
   },
   "source": [
    "Construir la función de ejecución del problema"
   ]
  },
  {
   "cell_type": "code",
   "metadata": {
    "id": "4QbQFTzdS4DJ",
    "ExecuteTime": {
     "end_time": "2024-04-27T23:05:10.099198Z",
     "start_time": "2024-04-27T23:05:10.094453Z"
    }
   },
   "source": [
    "def costo_uniforme(problema):\n",
    "    raiz = crea_nodo_raiz(problema)\n",
    "    frontera = [raiz,]\n",
    "    explorados = set()\n",
    "    while True:\n",
    "        print('frontera: ', [nodo.estado.nombre for nodo in frontera])\n",
    "        print('explorados: ', [estado.nombre for estado in explorados])\n",
    "        if not frontera:\n",
    "            return None\n",
    "        nodo = frontera.pop(0)\n",
    "        if problema.es_objetivo(nodo.estado):\n",
    "            return nodo\n",
    "        print('escoge: ', nodo.estado.nombre)\n",
    "        print('-----------')\n",
    "        explorados.add(nodo.estado)\n",
    "        if not nodo.acciones:\n",
    "            continue\n",
    "        for nombre_accion in nodo.acciones.keys():\n",
    "            accion = Accion(nombre_accion)\n",
    "            hijo = crea_nodo_hijo(problema, nodo, accion)\n",
    "            estados_frontera = [nodo.estado for nodo in frontera]\n",
    "            if (hijo.estado not in explorados and hijo.estado not in estados_frontera):\n",
    "                frontera.append(hijo)\n",
    "            else:\n",
    "                buscar = [nodo for nodo in frontera if nodo.estado == hijo.estado]\n",
    "                if buscar:\n",
    "                    if hijo.costo < buscar[0].costo:\n",
    "                        indice = frontera.index(buscar[0])\n",
    "                        frontera[indice] = hijo\n",
    "            frontera.sort(key = lambda nodo: nodo.costo)"
   ],
   "outputs": [],
   "execution_count": 7
  },
  {
   "cell_type": "markdown",
   "metadata": {
    "id": "aMv_2P_nS4DJ"
   },
   "source": [
    "Métodos auxiliares"
   ]
  },
  {
   "cell_type": "code",
   "metadata": {
    "id": "9c_xwV3US4DJ",
    "ExecuteTime": {
     "end_time": "2024-04-27T23:05:10.131898Z",
     "start_time": "2024-04-27T23:05:10.127386Z"
    }
   },
   "source": [
    "def crea_nodo_raiz(problema):\n",
    "    estado_raiz = problema.estado_inicial\n",
    "    acciones_raiz = {}\n",
    "    if estado_raiz.nombre in problema.acciones.keys():\n",
    "        acciones_raiz = problema.acciones[estado_raiz.nombre]\n",
    "    raiz = Nodo(estado_raiz, None, acciones_raiz, None)\n",
    "    raiz.costo = 0\n",
    "    return raiz\n",
    "\n",
    "def crea_nodo_hijo(problema, padre, accion):\n",
    "    nuevo_estado = problema.resultado(padre.estado, accion)\n",
    "    acciones_nuevo = {}\n",
    "    if nuevo_estado.nombre in problema.acciones.keys():\n",
    "        acciones_nuevo = problema.acciones[nuevo_estado.nombre]\n",
    "    hijo = Nodo(nuevo_estado, accion, acciones_nuevo, padre)\n",
    "    costo = padre.costo\n",
    "    costo += problema.costo_accion(padre.estado, accion)\n",
    "    hijo.costo = costo\n",
    "    padre.hijos.append(hijo)\n",
    "    return hijo\n",
    "\n",
    "def muestra_solucion(objetivo = None):\n",
    "    if not objetivo:\n",
    "        print('No hay solución')\n",
    "        return\n",
    "    nodo = objetivo\n",
    "    while nodo:\n",
    "        msg = \"Estado: {0}, Costo Total: {1}\"\n",
    "        estado = nodo.estado.nombre\n",
    "        costo_total = nodo.costo\n",
    "        print(msg.format(estado, costo_total))\n",
    "        if nodo.accion:\n",
    "            accion = nodo.accion.nombre\n",
    "            padre = nodo.padre.estado\n",
    "            costo = problema_resolver.costo_accion(padre, nodo.accion)\n",
    "            msg = \"<--- {0} [{1}]--->\"\n",
    "            print(msg.format(accion, costo))\n",
    "            print('----------')\n",
    "        nodo = nodo.padre"
   ],
   "outputs": [],
   "execution_count": 8
  },
  {
   "cell_type": "markdown",
   "metadata": {
    "id": "G0ozH2iUS4DJ"
   },
   "source": [
    "Crear la estructura de datos"
   ]
  },
  {
   "cell_type": "code",
   "metadata": {
    "id": "pzQliZilS4DK",
    "ExecuteTime": {
     "end_time": "2024-04-27T23:05:10.146468Z",
     "start_time": "2024-04-27T23:05:10.143480Z"
    }
   },
   "source": [
    "from Datos import Datos\n",
    "\n",
    "if __name__ == '__main__':\n",
    "    datos = Datos()\n",
    "\n",
    "    objetivo_1 = [datos.tolu]\n",
    "    problema_1 = Problema(\n",
    "        datos.manizales, \n",
    "        objetivo_1, \n",
    "        datos.acciones, \n",
    "        datos.costos\n",
    "    )"
   ],
   "outputs": [],
   "execution_count": 9
  },
  {
   "cell_type": "code",
   "metadata": {
    "colab": {
     "base_uri": "https://localhost:8080/"
    },
    "id": "HgaECPNyS4DK",
    "outputId": "445a3896-bd10-4760-d594-fd1385d2c586",
    "ExecuteTime": {
     "end_time": "2024-04-27T23:05:10.150867Z",
     "start_time": "2024-04-27T23:05:10.147472Z"
    }
   },
   "source": [
    "problema_resolver = problema_1\n",
    "solucion = costo_uniforme(problema_resolver)\n",
    "muestra_solucion(solucion)"
   ],
   "outputs": [
    {
     "name": "stdout",
     "output_type": "stream",
     "text": [
      "frontera:  ['Manizales']\n",
      "explorados:  []\n",
      "escoge:  Manizales\n",
      "-----------\n",
      "frontera:  ['Medellin']\n",
      "explorados:  ['Manizales']\n",
      "escoge:  Medellin\n",
      "-----------\n",
      "frontera:  ['Barbosa', 'Santa Fe']\n",
      "explorados:  ['Manizales', 'Medellin']\n",
      "escoge:  Barbosa\n",
      "-----------\n",
      "frontera:  ['Santa Fe', 'Cisneros', 'Yarumal']\n",
      "explorados:  ['Manizales', 'Barbosa', 'Medellin']\n",
      "escoge:  Santa Fe\n",
      "-----------\n",
      "frontera:  ['Cisneros', 'Yarumal', 'Dabeiba']\n",
      "explorados:  ['Manizales', 'Santa Fe', 'Barbosa', 'Medellin']\n",
      "escoge:  Cisneros\n",
      "-----------\n",
      "frontera:  ['Maceo', 'Yarumal', 'Dabeiba']\n",
      "explorados:  ['Manizales', 'Barbosa', 'Cisneros', 'Santa Fe', 'Medellin']\n",
      "escoge:  Maceo\n",
      "-----------\n",
      "frontera:  ['Yarumal', 'Dabeiba', 'Remedios']\n",
      "explorados:  ['Manizales', 'Maceo', 'Barbosa', 'Cisneros', 'Santa Fe', 'Medellin']\n",
      "escoge:  Yarumal\n",
      "-----------\n",
      "frontera:  ['Dabeiba', 'Remedios', 'Amalfi', 'Caucasia']\n",
      "explorados:  ['Manizales', 'Maceo', 'Barbosa', 'Cisneros', 'Santa Fe', 'Medellin', 'Yarumal']\n",
      "escoge:  Dabeiba\n",
      "-----------\n",
      "frontera:  ['Remedios', 'Chigorodo', 'Amalfi', 'Caucasia']\n",
      "explorados:  ['Manizales', 'Maceo', 'Dabeiba', 'Barbosa', 'Cisneros', 'Santa Fe', 'Medellin', 'Yarumal']\n",
      "escoge:  Remedios\n",
      "-----------\n",
      "frontera:  ['Chigorodo', 'Amalfi', 'Caucasia']\n",
      "explorados:  ['Manizales', 'Maceo', 'Dabeiba', 'Barbosa', 'Cisneros', 'Santa Fe', 'Medellin', 'Yarumal', 'Remedios']\n",
      "escoge:  Chigorodo\n",
      "-----------\n",
      "frontera:  ['Amalfi', 'Caucasia', 'Arboletes']\n",
      "explorados:  ['Manizales', 'Maceo', 'Dabeiba', 'Barbosa', 'Chigorodo', 'Cisneros', 'Santa Fe', 'Medellin', 'Yarumal', 'Remedios']\n",
      "escoge:  Amalfi\n",
      "-----------\n",
      "frontera:  ['Caucasia', 'Arboletes']\n",
      "explorados:  ['Manizales', 'Maceo', 'Dabeiba', 'Barbosa', 'Chigorodo', 'Cisneros', 'Santa Fe', 'Medellin', 'Amalfi', 'Yarumal', 'Remedios']\n",
      "escoge:  Caucasia\n",
      "-----------\n",
      "frontera:  ['Planeta Rica', 'Arboletes']\n",
      "explorados:  ['Manizales', 'Maceo', 'Dabeiba', 'Barbosa', 'Chigorodo', 'Cisneros', 'Santa Fe', 'Medellin', 'Amalfi', 'Caucasia', 'Yarumal', 'Remedios']\n",
      "escoge:  Planeta Rica\n",
      "-----------\n",
      "frontera:  ['Monteria', 'Arboletes', 'Sahagun']\n",
      "explorados:  ['Manizales', 'Maceo', 'Dabeiba', 'Barbosa', 'Chigorodo', 'Cisneros', 'Santa Fe', 'Medellin', 'Amalfi', 'Caucasia', 'Yarumal', 'Planeta Rica', 'Remedios']\n",
      "escoge:  Monteria\n",
      "-----------\n",
      "frontera:  ['Arboletes', 'Sahagun', 'Cerete']\n",
      "explorados:  ['Manizales', 'Maceo', 'Dabeiba', 'Barbosa', 'Chigorodo', 'Cisneros', 'Santa Fe', 'Medellin', 'Amalfi', 'Caucasia', 'Monteria', 'Yarumal', 'Planeta Rica', 'Remedios']\n",
      "escoge:  Arboletes\n",
      "-----------\n",
      "frontera:  ['Sahagun', 'Cerete']\n",
      "explorados:  ['Manizales', 'Maceo', 'Dabeiba', 'Barbosa', 'Chigorodo', 'Cisneros', 'Santa Fe', 'Medellin', 'Arboletes', 'Amalfi', 'Caucasia', 'Monteria', 'Yarumal', 'Planeta Rica', 'Remedios']\n",
      "escoge:  Sahagun\n",
      "-----------\n",
      "frontera:  ['Cerete', 'Cienaga', 'Sincelejo']\n",
      "explorados:  ['Manizales', 'Maceo', 'Dabeiba', 'Barbosa', 'Chigorodo', 'Cisneros', 'Santa Fe', 'Medellin', 'Arboletes', 'Sahagun', 'Amalfi', 'Caucasia', 'Monteria', 'Yarumal', 'Planeta Rica', 'Remedios']\n",
      "escoge:  Cerete\n",
      "-----------\n",
      "frontera:  ['Cienaga', 'Sincelejo', 'Coveñas']\n",
      "explorados:  ['Manizales', 'Maceo', 'Dabeiba', 'Cerete', 'Barbosa', 'Chigorodo', 'Cisneros', 'Santa Fe', 'Medellin', 'Arboletes', 'Sahagun', 'Amalfi', 'Caucasia', 'Monteria', 'Yarumal', 'Planeta Rica', 'Remedios']\n",
      "escoge:  Cienaga\n",
      "-----------\n",
      "frontera:  ['Sincelejo', 'Coveñas']\n",
      "explorados:  ['Manizales', 'Maceo', 'Dabeiba', 'Cerete', 'Barbosa', 'Chigorodo', 'Cienaga', 'Cisneros', 'Santa Fe', 'Medellin', 'Arboletes', 'Sahagun', 'Amalfi', 'Caucasia', 'Monteria', 'Yarumal', 'Planeta Rica', 'Remedios']\n",
      "escoge:  Sincelejo\n",
      "-----------\n",
      "frontera:  ['Coveñas', 'Tolu']\n",
      "explorados:  ['Cienaga', 'Medellin', 'Arboletes', 'Manizales', 'Caucasia', 'Dabeiba', 'Barbosa', 'Cisneros', 'Yarumal', 'Planeta Rica', 'Remedios', 'Maceo', 'Chigorodo', 'Santa Fe', 'Sahagun', 'Amalfi', 'Monteria', 'Sincelejo', 'Cerete']\n",
      "escoge:  Coveñas\n",
      "-----------\n",
      "frontera:  ['Tolu']\n",
      "explorados:  ['Cienaga', 'Medellin', 'Arboletes', 'Coveñas', 'Manizales', 'Caucasia', 'Dabeiba', 'Barbosa', 'Cisneros', 'Yarumal', 'Planeta Rica', 'Remedios', 'Maceo', 'Chigorodo', 'Santa Fe', 'Sahagun', 'Amalfi', 'Monteria', 'Sincelejo', 'Cerete']\n",
      "Estado: Tolu, Costo Total: 763\n",
      "<--- NO [40]--->\n",
      "----------\n",
      "Estado: Sincelejo, Costo Total: 723\n",
      "<--- N [48]--->\n",
      "----------\n",
      "Estado: Sahagun, Costo Total: 675\n",
      "<--- N [73]--->\n",
      "----------\n",
      "Estado: Planeta Rica, Costo Total: 602\n",
      "<--- NO [70]--->\n",
      "----------\n",
      "Estado: Caucasia, Costo Total: 532\n",
      "<--- NE [161]--->\n",
      "----------\n",
      "Estado: Yarumal, Costo Total: 371\n",
      "<--- NO [99]--->\n",
      "----------\n",
      "Estado: Barbosa, Costo Total: 272\n",
      "<--- NE [44]--->\n",
      "----------\n",
      "Estado: Medellin, Costo Total: 228\n",
      "<--- N [228]--->\n",
      "----------\n",
      "Estado: Manizales, Costo Total: 0\n"
     ]
    }
   ],
   "execution_count": 10
  },
  {
   "cell_type": "code",
   "metadata": {
    "id": "Sxj2LhYyS4DK",
    "ExecuteTime": {
     "end_time": "2024-04-27T23:05:10.175649Z",
     "start_time": "2024-04-27T23:05:10.173238Z"
    }
   },
   "source": [],
   "outputs": [],
   "execution_count": 10
  }
 ],
 "metadata": {
  "kernelspec": {
   "display_name": "Python 3",
   "language": "python",
   "name": "python3"
  },
  "language_info": {
   "codemirror_mode": {
    "name": "ipython",
    "version": 3
   },
   "file_extension": ".py",
   "mimetype": "text/x-python",
   "name": "python",
   "nbconvert_exporter": "python",
   "pygments_lexer": "ipython3",
   "version": "3.11.5"
  },
  "colab": {
   "provenance": []
  }
 },
 "nbformat": 4,
 "nbformat_minor": 0
}
