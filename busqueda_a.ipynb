{
 "cells": [
  {
   "metadata": {},
   "cell_type": "markdown",
   "source": [
    "# Integrantes\n",
    "Kelly Tatiana Alvarez<br>\n",
    "Eldigardo Camacho"
   ]
  },
  {
   "cell_type": "code",
   "metadata": {
    "id": "Zu0yiFz2xmgy",
    "ExecuteTime": {
     "end_time": "2024-04-29T01:03:02.660688Z",
     "start_time": "2024-04-29T01:03:02.656159Z"
    }
   },
   "source": [
    "from grafos import Accion\n",
    "from grafos import Nodo\n",
    "from grafos import Problema"
   ],
   "outputs": [],
   "execution_count": 1
  },
  {
   "cell_type": "markdown",
   "metadata": {
    "id": "9jn1XcDYxmg0"
   },
   "source": [
    "Construir la función de ejecución del problema"
   ]
  },
  {
   "cell_type": "code",
   "metadata": {
    "id": "ZHQ_uZzIxmg1",
    "ExecuteTime": {
     "end_time": "2024-04-29T01:03:02.665814Z",
     "start_time": "2024-04-29T01:03:02.661692Z"
    }
   },
   "source": [
    "def a_estrella(problema):\n",
    "    raiz = crea_nodo_raiz(problema)\n",
    "    frontera = [raiz, ]\n",
    "    explorados = set()\n",
    "    while True:\n",
    "        if not frontera:\n",
    "            return None\n",
    "        nodo = sacar_siguiente(frontera, 'valor',\n",
    "                               objetivos=problema.estado_objetivo)\n",
    "        if problema.es_objetivo(nodo.estado):\n",
    "            return nodo\n",
    "        explorados.add(nodo.estado)\n",
    "        if not nodo.acciones:\n",
    "            continue\n",
    "        for nombre_accion in nodo.acciones.keys():\n",
    "            accion = Accion(nombre_accion)\n",
    "            hijo = crea_nodo_hijo(problema, nodo, accion)\n",
    "            estados_frontera = [nodo.estado for nodo in frontera]\n",
    "            if hijo.estado in explorados or hijo.estado in estados_frontera:\n",
    "                buscar = [nodo for nodo in frontera\n",
    "                          if nodo.estado == hijo.estado]\n",
    "                if buscar:\n",
    "                    valores_hijo = [hijo.valores[objetivo.nombre]\n",
    "                                    for objetivo\n",
    "                                    in problema.estado_objetivo]\n",
    "                    valores_buscar = [buscar[0].valores[objetivo.nombre]\n",
    "                                      for objetivo\n",
    "                                      in problema.estado_objetivo]\n",
    "                    minimo_hijo = min(valores_hijo)\n",
    "                    minimo_buscar = min(valores_buscar)\n",
    "                    if minimo_hijo < minimo_buscar:\n",
    "                        indice = frontera.index(buscar[0])\n",
    "                        frontera[indice] = hijo\n",
    "            else:\n",
    "                frontera.append(hijo)"
   ],
   "outputs": [],
   "execution_count": 2
  },
  {
   "cell_type": "markdown",
   "metadata": {
    "id": "L5ps0QVExmg2"
   },
   "source": [
    "Métodos auxiliares"
   ]
  },
  {
   "cell_type": "code",
   "metadata": {
    "id": "v79eXU3Pxmg3",
    "ExecuteTime": {
     "end_time": "2024-04-29T01:03:02.674127Z",
     "start_time": "2024-04-29T01:03:02.666818Z"
    }
   },
   "source": [
    "def crea_nodo_raiz(problema):\n",
    "    estado_raiz = problema.estado_inicial\n",
    "    acciones_raiz = {}\n",
    "    if estado_raiz.nombre in problema.acciones.keys():\n",
    "        acciones_raiz = problema.acciones[estado_raiz.nombre]\n",
    "    raiz = Nodo(estado_raiz, None, acciones_raiz, None)\n",
    "    raiz.costo = 0\n",
    "    raiz.heuristicas = problema.heuristicas[estado_raiz.nombre]\n",
    "    raiz.valores = dict(raiz.heuristicas.items())\n",
    "    return raiz\n",
    "\n",
    "def crea_nodo_hijo(problema, padre, accion, agregar = True):\n",
    "    nuevo_estado = problema.resultado(padre.estado, accion)\n",
    "    acciones_nuevo = {}\n",
    "    if nuevo_estado.nombre in problema.acciones.keys():\n",
    "        acciones_nuevo = problema.acciones[nuevo_estado.nombre]\n",
    "    hijo = Nodo(nuevo_estado, accion, acciones_nuevo, padre)\n",
    "    costo = padre.costo\n",
    "    costo += problema.costo_accion(padre.estado, accion)\n",
    "    hijo.costo = costo\n",
    "    hijo.heuristicas = problema.heuristicas[hijo.estado.nombre]\n",
    "    hijo.valores = {estado: heuristica + hijo.costo for estado, heuristica in hijo.heuristicas.items()}\n",
    "    if agregar:\n",
    "        hijo.padre = padre\n",
    "        padre.hijos.append(hijo)\n",
    "    return hijo\n",
    "\n",
    "def sacar_siguiente(frontera, metrica = 'valor', criterio = 'menor', objetivos = None):\n",
    "    mejor = frontera[0]\n",
    "    for nodo in frontera[1:]:\n",
    "        for objetivo in objetivos:\n",
    "            if metrica == 'valor':\n",
    "                valor_nodo = nodo.valores[objetivo.nombre]\n",
    "                valor_mejor = mejor.valores[objetivo.nombre]\n",
    "                if(criterio == 'menor' and\n",
    "                   valor_nodo < valor_mejor):\n",
    "                    mejor = nodo\n",
    "                elif(criterio == 'mayor' and\n",
    "                     valor_nodo > valor_mejor):\n",
    "                    mejor = nodo\n",
    "            elif metrica == 'heuristica':\n",
    "                heuristica_nodo = nodo.heuristicas[objetivo.nombre]\n",
    "                heuristica_mejor = mejor.heuristicas[objetivo.nombre]\n",
    "                if(criterio == 'menor' and\n",
    "                   heuristica_nodo < heuristica_mejor):\n",
    "                    mejor = nodo\n",
    "                elif(criterio == 'mayor' and\n",
    "                     heuristica_nodo > heuristica_mejor):\n",
    "                    mejor = nodo\n",
    "            elif metrica == 'costo':\n",
    "                if(criterio == 'menor' and\n",
    "                   nodo.costo_camino < mejor.costo_camino):\n",
    "                    mejor = nodo\n",
    "                elif(criterio == 'mayor' and\n",
    "                     nodo.costo_camino > mejor.costo_camino):\n",
    "                    mejor = nodo\n",
    "    frontera.remove(mejor)\n",
    "    return mejor\n",
    "\n",
    "def muestra_solucion(objetivo = None):\n",
    "    if not objetivo:\n",
    "        print(\"No hay solución\")\n",
    "        return\n",
    "    nodo = objetivo\n",
    "    while nodo:\n",
    "        msg = \"Estado {0}, Valor {1}\"\n",
    "        estado = nodo.estado.nombre\n",
    "        valores = [nodo.valores[objetivo.nombre]\n",
    "                   for objetivo\n",
    "                   in problema_resolver.estado_objetivo]\n",
    "        valor = min(valores)\n",
    "        print(msg.format(estado, valor))\n",
    "        msg = \"  Costo: {0}\"\n",
    "        costo_total = nodo.costo\n",
    "        print(msg.format(costo_total))\n",
    "        msg = \"  Heurística: {0}\"\n",
    "        heuristicas_objetivos = [nodo.heuristicas[objetivo.nombre]\n",
    "                                 for objetivo\n",
    "                                 in problema_resolver.estado_objetivo]\n",
    "        heuristica = min(heuristicas_objetivos)\n",
    "        print(msg.format(heuristica))\n",
    "        if nodo.accion:\n",
    "            accion = nodo.accion.nombre\n",
    "            padre = nodo.padre.estado\n",
    "            costo = problema_resolver.costo_accion(padre, nodo.accion)\n",
    "            if accion:\n",
    "                msg = \"<--- {0} [{1}] ---\"\n",
    "                print(msg.format(accion, costo))\n",
    "        nodo = nodo.padre"
   ],
   "outputs": [],
   "execution_count": 3
  },
  {
   "cell_type": "markdown",
   "metadata": {
    "id": "IWmysW1Zxmg4"
   },
   "source": [
    "Crear la estructura de datos"
   ]
  },
  {
   "cell_type": "code",
   "metadata": {
    "id": "8xxjXyX0xmg4",
    "ExecuteTime": {
     "end_time": "2024-04-29T01:03:02.678364Z",
     "start_time": "2024-04-29T01:03:02.675132Z"
    }
   },
   "source": [
    "from Datos import Datos\n",
    "\n",
    "if __name__ == '__main__':\n",
    "    datos = Datos()    \n",
    "\n",
    "    objetivo_1 = [datos.tolu]\n",
    "    problema_1 = Problema(datos.manizales, objetivo_1, datos.acciones, datos.costos, datos.heuristicas)\n",
    "\n",
    "    objetivo_2 = [datos.tolu]\n",
    "    problema_2 = Problema(datos.manizales, objetivo_2, datos.acciones, datos.costos)\n"
   ],
   "outputs": [],
   "execution_count": 4
  },
  {
   "cell_type": "code",
   "metadata": {
    "id": "k3WEHPaexmg7",
    "outputId": "143c103e-4d30-41b0-8dd5-5dadbe3df1eb",
    "ExecuteTime": {
     "end_time": "2024-04-29T01:03:02.682536Z",
     "start_time": "2024-04-29T01:03:02.679369Z"
    }
   },
   "source": [
    "problema_resolver = problema_1\n",
    "solucion = a_estrella(problema_resolver)\n",
    "muestra_solucion(solucion)"
   ],
   "outputs": [
    {
     "name": "stdout",
     "output_type": "stream",
     "text": [
      "Estado Tolu, Valor 860\n",
      "  Costo: 860\n",
      "  Heurística: 0\n",
      "<--- NE [22] ---\n",
      "Estado Coveñas, Valor 857\n",
      "  Costo: 838\n",
      "  Heurística: 19\n",
      "<--- N [73] ---\n",
      "Estado Cerete, Valor 868\n",
      "  Costo: 765\n",
      "  Heurística: 103\n",
      "<--- NE [23] ---\n",
      "Estado Monteria, Valor 845\n",
      "  Costo: 742\n",
      "  Heurística: 103\n",
      "<--- E [69] ---\n",
      "Estado Arboletes, Valor 881\n",
      "  Costo: 673\n",
      "  Heurística: 208\n",
      "<--- N [177] ---\n",
      "Estado Chigorodo, Valor 856\n",
      "  Costo: 496\n",
      "  Heurística: 360\n",
      "<--- NO [109] ---\n",
      "Estado Dabeiba, Valor 820\n",
      "  Costo: 387\n",
      "  Heurística: 433\n",
      "<--- NO [103] ---\n",
      "Estado Santa Fe, Valor 805\n",
      "  Costo: 284\n",
      "  Heurística: 521\n",
      "<--- NO [56] ---\n",
      "Estado Medellin, Valor 833\n",
      "  Costo: 228\n",
      "  Heurística: 605\n",
      "<--- N [228] ---\n",
      "Estado Manizales, Valor 679\n",
      "  Costo: 0\n",
      "  Heurística: 679\n"
     ]
    }
   ],
   "execution_count": 5
  }
 ],
 "metadata": {
  "kernelspec": {
   "display_name": "Python 3",
   "language": "python",
   "name": "python3"
  },
  "language_info": {
   "codemirror_mode": {
    "name": "ipython",
    "version": 3
   },
   "file_extension": ".py",
   "mimetype": "text/x-python",
   "name": "python",
   "nbconvert_exporter": "python",
   "pygments_lexer": "ipython3",
   "version": "3.11.5"
  },
  "colab": {
   "provenance": []
  }
 },
 "nbformat": 4,
 "nbformat_minor": 0
}
