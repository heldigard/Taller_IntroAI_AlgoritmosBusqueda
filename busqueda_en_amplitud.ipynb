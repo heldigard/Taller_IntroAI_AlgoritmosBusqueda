{
 "cells": [
  {
   "cell_type": "code",
   "metadata": {
    "ExecuteTime": {
     "end_time": "2024-04-27T22:55:53.696305Z",
     "start_time": "2024-04-27T22:55:53.690937Z"
    }
   },
   "source": [
    "from grafos import Accion\n",
    "from grafos import Nodo\n",
    "from grafos import Problema"
   ],
   "outputs": [],
   "execution_count": 1
  },
  {
   "cell_type": "markdown",
   "metadata": {},
   "source": [
    "Construir la función de ejecución del problema"
   ]
  },
  {
   "cell_type": "code",
   "metadata": {
    "ExecuteTime": {
     "end_time": "2024-04-27T22:55:53.701168Z",
     "start_time": "2024-04-27T22:55:53.697310Z"
    }
   },
   "source": [
    "def amplitud(problema):\n",
    "    raiz = crea_nodo_raiz(problema)\n",
    "    if problema.es_objetivo(raiz.estado):\n",
    "        return raiz\n",
    "    frontera = [raiz,]\n",
    "    explorados = set()\n",
    "    while True:\n",
    "        print('frontera: ', [nodo.estado.nombre for nodo in frontera])\n",
    "        print('explorados: ', [estado.nombre for estado in explorados])\n",
    "        if not frontera:\n",
    "            return None\n",
    "        nodo = frontera.pop(0)\n",
    "        print('escoge: ', nodo.estado.nombre)\n",
    "        print('-----------')\n",
    "        explorados.add(nodo.estado)\n",
    "        if not nodo.acciones:\n",
    "            continue\n",
    "        for nombre_accion in nodo.acciones.keys():\n",
    "            accion = Accion(nombre_accion)\n",
    "            hijo = crea_nodo_hijo(problema, nodo, accion)\n",
    "            estados_frontera = [nodo.estado for nodo in frontera]\n",
    "            if (hijo.estado not in explorados and hijo.estado not in estados_frontera):\n",
    "                if problema.es_objetivo(hijo.estado):\n",
    "                    return hijo\n",
    "                frontera.append(hijo)"
   ],
   "outputs": [],
   "execution_count": 2
  },
  {
   "cell_type": "markdown",
   "metadata": {},
   "source": [
    "Métodos auxiliares"
   ]
  },
  {
   "cell_type": "code",
   "metadata": {
    "ExecuteTime": {
     "end_time": "2024-04-27T22:55:53.705521Z",
     "start_time": "2024-04-27T22:55:53.701682Z"
    }
   },
   "source": [
    "def crea_nodo_raiz(problema):\n",
    "    estado_raiz = problema.estado_inicial\n",
    "    acciones_raiz = {}\n",
    "    if estado_raiz.nombre in problema.acciones.keys():\n",
    "        acciones_raiz = problema.acciones[estado_raiz.nombre]\n",
    "    raiz = Nodo(estado_raiz, None, acciones_raiz, None)\n",
    "    return raiz\n",
    "\n",
    "def crea_nodo_hijo(problema, padre, accion):\n",
    "    nuevo_estado = problema.resultado(padre.estado, accion)\n",
    "    acciones_nuevo = {}\n",
    "    if nuevo_estado.nombre in problema.acciones.keys():\n",
    "        acciones_nuevo = problema.acciones[nuevo_estado.nombre]\n",
    "    hijo = Nodo(nuevo_estado, accion, acciones_nuevo, padre)\n",
    "    padre.hijos.append(hijo)\n",
    "    return hijo\n",
    "\n",
    "def muestra_solucion(objetivo = None):\n",
    "    if not objetivo:\n",
    "        print('No hay solución')\n",
    "        return\n",
    "    nodo = objetivo\n",
    "    while nodo:\n",
    "        msg = \"Estado: {0}\"\n",
    "        print(msg.format(nodo.estado.nombre))\n",
    "        if nodo.accion:\n",
    "            msg = \"<--- {0} --->\"\n",
    "            print(msg.format(nodo.accion.nombre))\n",
    "        nodo = nodo.padre"
   ],
   "outputs": [],
   "execution_count": 3
  },
  {
   "cell_type": "markdown",
   "metadata": {},
   "source": [
    "Crear la estructura de datos"
   ]
  },
  {
   "cell_type": "code",
   "metadata": {
    "ExecuteTime": {
     "end_time": "2024-04-27T22:55:53.710600Z",
     "start_time": "2024-04-27T22:55:53.705521Z"
    }
   },
   "source": [
    "from Datos import Datos\n",
    "\n",
    "if __name__ == '__main__':\n",
    "    datos = Datos()\n",
    "    \n",
    "    objetivo_1 = [datos.tolu]\n",
    "    problema_1 = Problema(datos.manizales, objetivo_1, datos.acciones)"
   ],
   "outputs": [],
   "execution_count": 4
  },
  {
   "cell_type": "code",
   "metadata": {
    "ExecuteTime": {
     "end_time": "2024-04-27T22:55:53.715029Z",
     "start_time": "2024-04-27T22:55:53.711606Z"
    }
   },
   "source": [
    "problema_resolver = problema_1\n",
    "solucion = amplitud(problema_resolver)\n",
    "muestra_solucion(solucion)"
   ],
   "outputs": [
    {
     "name": "stdout",
     "output_type": "stream",
     "text": [
      "frontera:  ['Manizales']\n",
      "explorados:  []\n",
      "escoge:  Manizales\n",
      "-----------\n",
      "frontera:  ['Medellin']\n",
      "explorados:  ['Manizales']\n",
      "escoge:  Medellin\n",
      "-----------\n",
      "frontera:  ['Santa Fe', 'Barbosa']\n",
      "explorados:  ['Medellin', 'Manizales']\n",
      "escoge:  Santa Fe\n",
      "-----------\n",
      "frontera:  ['Barbosa', 'Dabeiba']\n",
      "explorados:  ['Medellin', 'Manizales', 'Santa Fe']\n",
      "escoge:  Barbosa\n",
      "-----------\n",
      "frontera:  ['Dabeiba', 'Yarumal', 'Cisneros']\n",
      "explorados:  ['Medellin', 'Barbosa', 'Manizales', 'Santa Fe']\n",
      "escoge:  Dabeiba\n",
      "-----------\n",
      "frontera:  ['Yarumal', 'Cisneros', 'Chigorodo']\n",
      "explorados:  ['Medellin', 'Manizales', 'Dabeiba', 'Barbosa', 'Santa Fe']\n",
      "escoge:  Yarumal\n",
      "-----------\n",
      "frontera:  ['Cisneros', 'Chigorodo', 'Caucasia', 'Amalfi']\n",
      "explorados:  ['Medellin', 'Yarumal', 'Manizales', 'Dabeiba', 'Barbosa', 'Santa Fe']\n",
      "escoge:  Cisneros\n",
      "-----------\n",
      "frontera:  ['Chigorodo', 'Caucasia', 'Amalfi', 'Maceo']\n",
      "explorados:  ['Medellin', 'Yarumal', 'Manizales', 'Cisneros', 'Dabeiba', 'Barbosa', 'Santa Fe']\n",
      "escoge:  Chigorodo\n",
      "-----------\n",
      "frontera:  ['Caucasia', 'Amalfi', 'Maceo', 'Arboletes']\n",
      "explorados:  ['Medellin', 'Yarumal', 'Manizales', 'Chigorodo', 'Cisneros', 'Dabeiba', 'Barbosa', 'Santa Fe']\n",
      "escoge:  Caucasia\n",
      "-----------\n",
      "frontera:  ['Amalfi', 'Maceo', 'Arboletes', 'Planeta Rica', 'Remedios']\n",
      "explorados:  ['Medellin', 'Yarumal', 'Manizales', 'Chigorodo', 'Cisneros', 'Dabeiba', 'Barbosa', 'Santa Fe', 'Caucasia']\n",
      "escoge:  Amalfi\n",
      "-----------\n",
      "frontera:  ['Maceo', 'Arboletes', 'Planeta Rica', 'Remedios']\n",
      "explorados:  ['Medellin', 'Yarumal', 'Manizales', 'Chigorodo', 'Cisneros', 'Amalfi', 'Dabeiba', 'Barbosa', 'Santa Fe', 'Caucasia']\n",
      "escoge:  Maceo\n",
      "-----------\n",
      "frontera:  ['Arboletes', 'Planeta Rica', 'Remedios']\n",
      "explorados:  ['Medellin', 'Yarumal', 'Manizales', 'Maceo', 'Chigorodo', 'Cisneros', 'Amalfi', 'Dabeiba', 'Barbosa', 'Santa Fe', 'Caucasia']\n",
      "escoge:  Arboletes\n",
      "-----------\n",
      "frontera:  ['Planeta Rica', 'Remedios', 'Monteria']\n",
      "explorados:  ['Medellin', 'Yarumal', 'Arboletes', 'Manizales', 'Maceo', 'Chigorodo', 'Cisneros', 'Amalfi', 'Dabeiba', 'Barbosa', 'Santa Fe', 'Caucasia']\n",
      "escoge:  Planeta Rica\n",
      "-----------\n",
      "frontera:  ['Remedios', 'Monteria', 'Sahagun']\n",
      "explorados:  ['Medellin', 'Yarumal', 'Arboletes', 'Manizales', 'Maceo', 'Chigorodo', 'Cisneros', 'Amalfi', 'Planeta Rica', 'Dabeiba', 'Barbosa', 'Santa Fe', 'Caucasia']\n",
      "escoge:  Remedios\n",
      "-----------\n",
      "frontera:  ['Monteria', 'Sahagun']\n",
      "explorados:  ['Medellin', 'Yarumal', 'Arboletes', 'Remedios', 'Manizales', 'Maceo', 'Chigorodo', 'Cisneros', 'Amalfi', 'Planeta Rica', 'Dabeiba', 'Barbosa', 'Santa Fe', 'Caucasia']\n",
      "escoge:  Monteria\n",
      "-----------\n",
      "frontera:  ['Sahagun', 'Cerete']\n",
      "explorados:  ['Medellin', 'Yarumal', 'Arboletes', 'Remedios', 'Manizales', 'Maceo', 'Chigorodo', 'Monteria', 'Cisneros', 'Amalfi', 'Planeta Rica', 'Dabeiba', 'Barbosa', 'Santa Fe', 'Caucasia']\n",
      "escoge:  Sahagun\n",
      "-----------\n",
      "frontera:  ['Cerete', 'Cienaga', 'Sincelejo']\n",
      "explorados:  ['Medellin', 'Yarumal', 'Arboletes', 'Remedios', 'Manizales', 'Maceo', 'Chigorodo', 'Monteria', 'Sahagun', 'Cisneros', 'Amalfi', 'Planeta Rica', 'Dabeiba', 'Barbosa', 'Santa Fe', 'Caucasia']\n",
      "escoge:  Cerete\n",
      "-----------\n",
      "frontera:  ['Cienaga', 'Sincelejo', 'Coveñas']\n",
      "explorados:  ['Medellin', 'Yarumal', 'Arboletes', 'Remedios', 'Manizales', 'Maceo', 'Chigorodo', 'Monteria', 'Sahagun', 'Cisneros', 'Amalfi', 'Planeta Rica', 'Dabeiba', 'Barbosa', 'Santa Fe', 'Cerete', 'Caucasia']\n",
      "escoge:  Cienaga\n",
      "-----------\n",
      "frontera:  ['Sincelejo', 'Coveñas']\n",
      "explorados:  ['Medellin', 'Yarumal', 'Arboletes', 'Remedios', 'Manizales', 'Maceo', 'Chigorodo', 'Monteria', 'Sahagun', 'Cisneros', 'Amalfi', 'Planeta Rica', 'Dabeiba', 'Barbosa', 'Cienaga', 'Santa Fe', 'Cerete', 'Caucasia']\n",
      "escoge:  Sincelejo\n",
      "-----------\n",
      "Estado: Tolu\n",
      "<--- NO --->\n",
      "Estado: Sincelejo\n",
      "<--- N --->\n",
      "Estado: Sahagun\n",
      "<--- N --->\n",
      "Estado: Planeta Rica\n",
      "<--- NO --->\n",
      "Estado: Caucasia\n",
      "<--- NE --->\n",
      "Estado: Yarumal\n",
      "<--- NO --->\n",
      "Estado: Barbosa\n",
      "<--- NE --->\n",
      "Estado: Medellin\n",
      "<--- N --->\n",
      "Estado: Manizales\n"
     ]
    }
   ],
   "execution_count": 5
  },
  {
   "cell_type": "code",
   "metadata": {
    "ExecuteTime": {
     "end_time": "2024-04-27T22:55:53.717736Z",
     "start_time": "2024-04-27T22:55:53.715029Z"
    }
   },
   "source": [],
   "outputs": [],
   "execution_count": 5
  }
 ],
 "metadata": {
  "kernelspec": {
   "display_name": "Python 3",
   "language": "python",
   "name": "python3"
  },
  "language_info": {
   "codemirror_mode": {
    "name": "ipython",
    "version": 3
   },
   "file_extension": ".py",
   "mimetype": "text/x-python",
   "name": "python",
   "nbconvert_exporter": "python",
   "pygments_lexer": "ipython3",
   "version": "3.11.5"
  }
 },
 "nbformat": 4,
 "nbformat_minor": 2
}
