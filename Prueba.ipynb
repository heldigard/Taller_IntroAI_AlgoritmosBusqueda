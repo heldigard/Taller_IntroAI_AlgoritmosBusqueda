{
 "cells": [
  {
   "cell_type": "code",
   "id": "initial_id",
   "metadata": {
    "collapsed": true,
    "ExecuteTime": {
     "end_time": "2024-04-27T22:26:48.381623Z",
     "start_time": "2024-04-27T22:26:48.379018Z"
    }
   },
   "source": [
    "verde = 90\n",
    "amarillo = 70\n",
    "rojo = 40"
   ],
   "outputs": [],
   "execution_count": 81
  },
  {
   "metadata": {
    "ExecuteTime": {
     "end_time": "2024-04-27T22:26:48.387532Z",
     "start_time": "2024-04-27T22:26:48.385019Z"
    }
   },
   "cell_type": "code",
   "source": "distancia = 73",
   "id": "69d54b9faa4c095f",
   "outputs": [],
   "execution_count": 82
  },
  {
   "metadata": {
    "ExecuteTime": {
     "end_time": "2024-04-27T22:26:48.391301Z",
     "start_time": "2024-04-27T22:26:48.388795Z"
    }
   },
   "cell_type": "code",
   "source": [
    "tiempo_verde = distancia / verde\n",
    "tiempo_amarillo = distancia / amarillo\n",
    "tiempo_rojo = distancia / rojo"
   ],
   "id": "d98de9754b662e1a",
   "outputs": [],
   "execution_count": 83
  },
  {
   "metadata": {
    "ExecuteTime": {
     "end_time": "2024-04-27T22:26:48.394635Z",
     "start_time": "2024-04-27T22:26:48.391809Z"
    }
   },
   "cell_type": "code",
   "source": [
    "print(f\"verde = {tiempo_verde * 60}\")\n",
    "print(f\"amarillo = {tiempo_amarillo * 60}\")\n",
    "print(f\"rojo = {tiempo_rojo * 60}\")"
   ],
   "id": "e27b7b4fa766aca0",
   "outputs": [
    {
     "name": "stdout",
     "output_type": "stream",
     "text": [
      "verde = 48.666666666666664\n",
      "amarillo = 62.57142857142858\n",
      "rojo = 109.5\n"
     ]
    }
   ],
   "execution_count": 84
  },
  {
   "metadata": {
    "ExecuteTime": {
     "end_time": "2024-04-27T22:26:48.397199Z",
     "start_time": "2024-04-27T22:26:48.394635Z"
    }
   },
   "cell_type": "code",
   "source": "",
   "id": "c9002e0a5150598a",
   "outputs": [],
   "execution_count": 84
  }
 ],
 "metadata": {
  "kernelspec": {
   "display_name": "Python 3",
   "language": "python",
   "name": "python3"
  },
  "language_info": {
   "codemirror_mode": {
    "name": "ipython",
    "version": 2
   },
   "file_extension": ".py",
   "mimetype": "text/x-python",
   "name": "python",
   "nbconvert_exporter": "python",
   "pygments_lexer": "ipython2",
   "version": "2.7.6"
  }
 },
 "nbformat": 4,
 "nbformat_minor": 5
}
