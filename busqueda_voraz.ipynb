{
 "cells": [
  {
   "metadata": {},
   "cell_type": "markdown",
   "source": [
    "# Integrantes\n",
    "Kelly Tatiana Alvarez<br>\n",
    "Eldigardo Camacho"
   ]
  },
  {
   "cell_type": "code",
   "metadata": {
    "ExecuteTime": {
     "end_time": "2024-04-29T01:18:15.674853Z",
     "start_time": "2024-04-29T01:18:15.671824Z"
    }
   },
   "source": [
    "from grafos import Accion\n",
    "from grafos import Nodo\n",
    "from grafos import Problema"
   ],
   "outputs": [],
   "execution_count": 14
  },
  {
   "cell_type": "markdown",
   "metadata": {},
   "source": [
    "Construir la función de ejecución del problema"
   ]
  },
  {
   "cell_type": "code",
   "metadata": {
    "ExecuteTime": {
     "end_time": "2024-04-29T01:18:15.700164Z",
     "start_time": "2024-04-29T01:18:15.695861Z"
    }
   },
   "source": [
    "def voraz(problema):\n",
    "    raiz = crea_nodo_raiz(problema)\n",
    "    frontera = [raiz, ]\n",
    "    explorados = set()\n",
    "    while True:\n",
    "        if not frontera:\n",
    "            return None\n",
    "        nodo = sacar_siguiente(frontera, 'heuristica',\n",
    "                               objetivos=problema.estado_objetivo)\n",
    "        if problema.es_objetivo(nodo.estado):\n",
    "            return nodo\n",
    "        explorados.add(nodo.estado)\n",
    "        if not nodo.acciones:\n",
    "            continue\n",
    "        for nombre_accion in nodo.acciones.keys():\n",
    "            accion = Accion(nombre_accion)\n",
    "            hijo = crea_nodo_hijo(problema, nodo, accion)\n",
    "            estados_frontera = [nodo.estado for nodo in frontera]\n",
    "            if hijo.estado in explorados or hijo.estado in estados_frontera:\n",
    "                buscar = [nodo for nodo in frontera\n",
    "                          if nodo.estado == hijo.estado]\n",
    "                if buscar:\n",
    "                    heuristic_hijo = [hijo.heuristicas[objetivo.nombre]\n",
    "                                      for objetivo\n",
    "                                      in problema.estado_objetivo]\n",
    "                    heuristic_buscar = [buscar[0].heuristicas[objetivo.nombre]\n",
    "                                        for objetivo\n",
    "                                        in problema.estado_objetivo]\n",
    "                    minimo_hijo = min(heuristic_hijo)\n",
    "                    minimo_buscar = min(heuristic_buscar)\n",
    "                    if minimo_hijo < minimo_buscar:\n",
    "                        indice = frontera.index(buscar[0])\n",
    "                        frontera[indice] = hijo\n",
    "            else:\n",
    "                frontera.append(hijo)               "
   ],
   "outputs": [],
   "execution_count": 15
  },
  {
   "cell_type": "markdown",
   "metadata": {},
   "source": [
    "Métodos auxiliares"
   ]
  },
  {
   "cell_type": "code",
   "metadata": {
    "ExecuteTime": {
     "end_time": "2024-04-29T01:18:15.722809Z",
     "start_time": "2024-04-29T01:18:15.715588Z"
    }
   },
   "source": [
    "def crea_nodo_raiz(problema):\n",
    "    estado_raiz = problema.estado_inicial\n",
    "    acciones_raiz = {}\n",
    "    if estado_raiz.nombre in problema.acciones.keys():\n",
    "        acciones_raiz = problema.acciones[estado_raiz.nombre]\n",
    "    raiz = Nodo(estado_raiz, None, acciones_raiz, None)\n",
    "    raiz.costo = 0\n",
    "    raiz.heuristicas = problema.heuristicas[estado_raiz.nombre]\n",
    "    raiz.valores = dict(raiz.heuristicas.items())\n",
    "    return raiz\n",
    "\n",
    "def crea_nodo_hijo(problema, padre, accion, agregar = True):\n",
    "    nuevo_estado = problema.resultado(padre.estado, accion)\n",
    "    acciones_nuevo = {}\n",
    "    if nuevo_estado.nombre in problema.acciones.keys():\n",
    "        acciones_nuevo = problema.acciones[nuevo_estado.nombre]\n",
    "    hijo = Nodo(nuevo_estado, accion, acciones_nuevo, padre)\n",
    "    costo = padre.costo\n",
    "    costo += problema.costo_accion(padre.estado, accion)\n",
    "    hijo.costo = costo\n",
    "    hijo.heuristicas = problema.heuristicas[hijo.estado.nombre]\n",
    "    hijo.valores = {estado: heuristica + hijo.costo for estado, heuristica in hijo.heuristicas.items()}\n",
    "    if agregar:\n",
    "        hijo.padre = padre\n",
    "        padre.hijos.append(hijo)\n",
    "    return hijo\n",
    "\n",
    "def sacar_siguiente(frontera, metrica = 'valor', criterio = 'menor', objetivos = None):\n",
    "    mejor = frontera[0]\n",
    "    for nodo in frontera[1:]:\n",
    "        for objetivo in objetivos:\n",
    "            if metrica == 'valor':\n",
    "                valor_nodo = nodo.valores[objetivo.nombre]\n",
    "                valor_mejor = mejor.valores[objetivo.nombre]\n",
    "                if(criterio == 'menor' and\n",
    "                   valor_nodo < valor_mejor):\n",
    "                    mejor = nodo\n",
    "                elif(criterio == 'mayor' and\n",
    "                     valor_nodo > valor_mejor):\n",
    "                    mejor = nodo\n",
    "            elif metrica == 'heuristica':\n",
    "                print(f\"heuristica: {nodo.heuristicas}\")\n",
    "                heuristica_nodo = nodo.heuristicas[objetivo.nombre]\n",
    "                heuristica_mejor = mejor.heuristicas[objetivo.nombre]\n",
    "                if(criterio == 'menor' and\n",
    "                   heuristica_nodo < heuristica_mejor):\n",
    "                    mejor = nodo\n",
    "                elif(criterio == 'mayor' and\n",
    "                     heuristica_nodo > heuristica_mejor):\n",
    "                    mejor = nodo\n",
    "            elif metrica == 'costo':\n",
    "                if(criterio == 'menor' and\n",
    "                   nodo.costo_camino < mejor.costo_camino):\n",
    "                    mejor = nodo\n",
    "                elif(criterio == 'mayor' and\n",
    "                     nodo.costo_camino > mejor.costo_camino):\n",
    "                    mejor = nodo\n",
    "    frontera.remove(mejor)\n",
    "    return mejor\n",
    "\n",
    "def muestra_solucion(objetivo = None):\n",
    "    if not objetivo:\n",
    "        print(\"No hay solución\")\n",
    "        return\n",
    "    nodo = objetivo\n",
    "    while nodo:\n",
    "        msg = \"Estado {0}, Valor {1}\"\n",
    "        estado = nodo.estado.nombre\n",
    "        valores = [nodo.valores[objetivo.nombre]\n",
    "                   for objetivo\n",
    "                   in problema_resolver.estado_objetivo]\n",
    "        valor = min(valores)\n",
    "        print(msg.format(estado, valor))\n",
    "        msg = \"  Costo: {0}\"\n",
    "        costo_total = nodo.costo\n",
    "        print(msg.format(costo_total))\n",
    "        msg = \"  Heurística: {0}\"\n",
    "        heuristicas_objetivos = [nodo.heuristicas[objetivo.nombre]\n",
    "                                 for objetivo\n",
    "                                 in problema_resolver.estado_objetivo]\n",
    "        heuristica = min(heuristicas_objetivos)\n",
    "        print(msg.format(heuristica))\n",
    "        if nodo.accion:\n",
    "            accion = nodo.accion.nombre\n",
    "            padre = nodo.padre.estado\n",
    "            costo = problema_resolver.costo_accion(padre, nodo.accion)\n",
    "            if accion:\n",
    "                msg = \"<--- {0} [{1}] ---\"\n",
    "                print(msg.format(accion, costo))\n",
    "        nodo = nodo.padre"
   ],
   "outputs": [],
   "execution_count": 16
  },
  {
   "cell_type": "markdown",
   "metadata": {},
   "source": [
    "Crear la estructura de datos"
   ]
  },
  {
   "cell_type": "code",
   "metadata": {
    "ExecuteTime": {
     "end_time": "2024-04-29T01:18:15.726859Z",
     "start_time": "2024-04-29T01:18:15.724303Z"
    }
   },
   "source": [
    "from Datos import Datos\n",
    "\n",
    "if __name__ == '__main__':\n",
    "    datos = Datos()\n",
    "    \n",
    "    objetivo_1 = [datos.tolu]\n",
    "    problema_1 = Problema(\n",
    "        datos.manizales, \n",
    "        objetivo_1, \n",
    "        datos.acciones, \n",
    "        datos.costos, datos.heuristicas\n",
    "    )\n"
   ],
   "outputs": [],
   "execution_count": 17
  },
  {
   "cell_type": "code",
   "metadata": {
    "ExecuteTime": {
     "end_time": "2024-04-29T01:18:15.730829Z",
     "start_time": "2024-04-29T01:18:15.727862Z"
    }
   },
   "source": [
    "problema_resolver = problema_1\n",
    "solucion = voraz(problema_resolver)\n",
    "muestra_solucion(solucion)"
   ],
   "outputs": [
    {
     "name": "stdout",
     "output_type": "stream",
     "text": [
      "heuristica: {'Manizales': 215, 'Medellin': 63, 'Santa Fe': 147, 'Dabeiba': 308, 'Chigorodo': 460, 'Arboletes': 460, 'Monteria': 565, 'Barbosa': 0, 'Yarumal': 148, 'Cisneros': 32, 'Amalfi': 383, 'Maceo': 73, 'Remedios': 144, 'Caucasia': 242, 'Planeta Rica': 332, 'Sahagun': 442, 'Cienaga': 471, 'Cerete': 600, 'Coveñas': 649, 'Sincelejo': 474, 'Tolu': 668}\n",
      "heuristica: {'Manizales': 324, 'Medellin': 172, 'Santa Fe': 88, 'Dabeiba': 0, 'Chigorodo': 73, 'Arboletes': 225, 'Monteria': 330, 'Barbosa': 235, 'Yarumal': 383, 'Cisneros': 267, 'Amalfi': 618, 'Maceo': 308, 'Remedios': 379, 'Caucasia': 477, 'Planeta Rica': 523, 'Sahagun': 633, 'Cienaga': 494, 'Cerete': 365, 'Coveñas': 414, 'Sincelejo': 455, 'Tolu': 433}\n",
      "heuristica: {'Manizales': 397, 'Medellin': 245, 'Santa Fe': 161, 'Dabeiba': 73, 'Chigorodo': 0, 'Arboletes': 152, 'Monteria': 257, 'Barbosa': 308, 'Yarumal': 456, 'Cisneros': 340, 'Amalfi': 691, 'Maceo': 381, 'Remedios': 452, 'Caucasia': 550, 'Planeta Rica': 633, 'Sahagun': 350, 'Cienaga': 567, 'Cerete': 292, 'Coveñas': 341, 'Sincelejo': 382, 'Tolu': 360}\n",
      "heuristica: {'Manizales': 549, 'Medellin': 397, 'Santa Fe': 313, 'Dabeiba': 198, 'Chigorodo': 152, 'Arboletes': 0, 'Monteria': 105, 'Barbosa': 460, 'Yarumal': 645, 'Cisneros': 492, 'Amalfi': 410, 'Maceo': 366, 'Remedios': 295, 'Caucasia': 197, 'Planeta Rica': 151, 'Sahagun': 198, 'Cienaga': 415, 'Cerete': 140, 'Coveñas': 189, 'Sincelejo': 230, 'Tolu': 208}\n",
      "heuristica: {'Manizales': 654, 'Medellin': 502, 'Santa Fe': 418, 'Dabeiba': 303, 'Chigorodo': 257, 'Arboletes': 105, 'Monteria': 0, 'Barbosa': 378, 'Yarumal': 230, 'Cisneros': 597, 'Amalfi': 305, 'Maceo': 491, 'Remedios': 400, 'Caucasia': 92, 'Planeta Rica': 46, 'Sahagun': 58, 'Cienaga': 64, 'Cerete': 35, 'Coveñas': 84, 'Sincelejo': 90, 'Tolu': 103}\n",
      "heuristica: {'Manizales': 628, 'Medellin': 476, 'Santa Fe': 560, 'Dabeiba': 365, 'Chigorodo': 292, 'Arboletes': 240, 'Monteria': 35, 'Barbosa': 413, 'Yarumal': 265, 'Cisneros': 297, 'Amalfi': 340, 'Maceo': 296, 'Remedios': 225, 'Caucasia': 127, 'Planeta Rica': 81, 'Sahagun': 93, 'Cienaga': 29, 'Cerete': 0, 'Coveñas': 49, 'Sincelejo': 90, 'Tolu': 103}\n",
      "heuristica: {'Manizales': 547, 'Medellin': 395, 'Santa Fe': 479, 'Dabeiba': 376, 'Chigorodo': 303, 'Arboletes': 151, 'Barbosa': 332, 'Yarumal': 184, 'Cisneros': 256, 'Amalfi': 259, 'Maceo': 215, 'Remedios': 144, 'Caucasia': 46, 'Planeta Rica': 0, 'Sahagun': 110, 'Cienaga': 139, 'Cerete': 81, 'Coveñas': 130, 'Sincelejo': 142, 'Tolu': 176}\n",
      "heuristica: {'Manizales': 547, 'Medellin': 395, 'Santa Fe': 479, 'Dabeiba': 376, 'Chigorodo': 303, 'Arboletes': 151, 'Barbosa': 332, 'Yarumal': 184, 'Cisneros': 256, 'Amalfi': 259, 'Maceo': 215, 'Remedios': 144, 'Caucasia': 46, 'Planeta Rica': 0, 'Sahagun': 110, 'Cienaga': 139, 'Cerete': 81, 'Coveñas': 130, 'Sincelejo': 142, 'Tolu': 176}\n",
      "heuristica: {'Manizales': 686, 'Medellin': 505, 'Santa Fe': 589, 'Dabeiba': 394, 'Chigorodo': 321, 'Arboletes': 169, 'Monteria': 64, 'Barbosa': 442, 'Yarumal': 294, 'Cisneros': 474, 'Amalfi': 529, 'Maceo': 354, 'Remedios': 283, 'Caucasia': 185, 'Planeta Rica': 139, 'Sahagun': 29, 'Cienaga': 0, 'Cerete': 29, 'Coveñas': 78, 'Sincelejo': 61, 'Tolu': 97}\n",
      "heuristica: {'Manizales': 677, 'Medellin': 525, 'Santa Fe': 441, 'Dabeiba': 414, 'Chigorodo': 341, 'Arboletes': 189, 'Monteria': 79, 'Barbosa': 462, 'Yarumal': 314, 'Cisneros': 386, 'Amalfi': 389, 'Maceo': 345, 'Remedios': 274, 'Caucasia': 176, 'Planeta Rica': 130, 'Sahagun': 134, 'Cienaga': 69, 'Cerete': 49, 'Coveñas': 0, 'Sincelejo': 53, 'Tolu': 19}\n",
      "heuristica: {'Manizales': 547, 'Medellin': 395, 'Santa Fe': 479, 'Dabeiba': 376, 'Chigorodo': 303, 'Arboletes': 151, 'Barbosa': 332, 'Yarumal': 184, 'Cisneros': 256, 'Amalfi': 259, 'Maceo': 215, 'Remedios': 144, 'Caucasia': 46, 'Planeta Rica': 0, 'Sahagun': 110, 'Cienaga': 139, 'Cerete': 81, 'Coveñas': 130, 'Sincelejo': 142, 'Tolu': 176}\n",
      "heuristica: {'Manizales': 686, 'Medellin': 505, 'Santa Fe': 589, 'Dabeiba': 394, 'Chigorodo': 321, 'Arboletes': 169, 'Monteria': 64, 'Barbosa': 442, 'Yarumal': 294, 'Cisneros': 474, 'Amalfi': 529, 'Maceo': 354, 'Remedios': 283, 'Caucasia': 185, 'Planeta Rica': 139, 'Sahagun': 29, 'Cienaga': 0, 'Cerete': 29, 'Coveñas': 78, 'Sincelejo': 61, 'Tolu': 97}\n",
      "heuristica: {'Manizales': 679, 'Medellin': 527, 'Santa Fe': 517, 'Dabeiba': 433, 'Chigorodo': 360, 'Arboletes': 208, 'Monteria': 103, 'Barbosa': 508, 'Yarumal': 360, 'Cisneros': 540, 'Amalfi': 435, 'Maceo': 391, 'Remedios': 320, 'Caucasia': 222, 'Planeta Rica': 176, 'Sahagun': 66, 'Cienaga': 95, 'Cerete': 68, 'Coveñas': 19, 'Sincelejo': 34, 'Tolu': 0}\n",
      "Estado Tolu, Valor 860\n",
      "  Costo: 860\n",
      "  Heurística: 0\n",
      "<--- NE [22] ---\n",
      "Estado Coveñas, Valor 857\n",
      "  Costo: 838\n",
      "  Heurística: 19\n",
      "<--- N [73] ---\n",
      "Estado Cerete, Valor 868\n",
      "  Costo: 765\n",
      "  Heurística: 103\n",
      "<--- NE [23] ---\n",
      "Estado Monteria, Valor 845\n",
      "  Costo: 742\n",
      "  Heurística: 103\n",
      "<--- E [69] ---\n",
      "Estado Arboletes, Valor 881\n",
      "  Costo: 673\n",
      "  Heurística: 208\n",
      "<--- N [177] ---\n",
      "Estado Chigorodo, Valor 856\n",
      "  Costo: 496\n",
      "  Heurística: 360\n",
      "<--- NO [109] ---\n",
      "Estado Dabeiba, Valor 820\n",
      "  Costo: 387\n",
      "  Heurística: 433\n",
      "<--- NO [103] ---\n",
      "Estado Santa Fe, Valor 805\n",
      "  Costo: 284\n",
      "  Heurística: 521\n",
      "<--- NO [56] ---\n",
      "Estado Medellin, Valor 833\n",
      "  Costo: 228\n",
      "  Heurística: 605\n",
      "<--- N [228] ---\n",
      "Estado Manizales, Valor 679\n",
      "  Costo: 0\n",
      "  Heurística: 679\n"
     ]
    }
   ],
   "execution_count": 18
  }
 ],
 "metadata": {
  "kernelspec": {
   "display_name": "Python 3",
   "language": "python",
   "name": "python3"
  },
  "language_info": {
   "codemirror_mode": {
    "name": "ipython",
    "version": 3
   },
   "file_extension": ".py",
   "mimetype": "text/x-python",
   "name": "python",
   "nbconvert_exporter": "python",
   "pygments_lexer": "ipython3",
   "version": "3.11.5"
  }
 },
 "nbformat": 4,
 "nbformat_minor": 2
}
