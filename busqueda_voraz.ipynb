{
 "cells": [
  {
   "cell_type": "code",
   "metadata": {
    "ExecuteTime": {
     "end_time": "2024-04-27T23:08:21.072479Z",
     "start_time": "2024-04-27T23:08:21.066978Z"
    }
   },
   "source": [
    "from grafos import Accion\n",
    "from grafos import Estado\n",
    "from grafos import Nodo\n",
    "from grafos import Problema"
   ],
   "outputs": [],
   "execution_count": 1
  },
  {
   "cell_type": "markdown",
   "metadata": {},
   "source": [
    "Construir la función de ejecución del problema"
   ]
  },
  {
   "cell_type": "code",
   "metadata": {
    "ExecuteTime": {
     "end_time": "2024-04-27T23:08:21.084012Z",
     "start_time": "2024-04-27T23:08:21.072987Z"
    }
   },
   "source": [
    "def voraz(problema):\n",
    "    raiz = crea_nodo_raiz(problema)\n",
    "    frontera = [raiz, ]\n",
    "    explorados = set()\n",
    "    while True:\n",
    "        if not frontera:\n",
    "            return None\n",
    "        nodo = sacar_siguiente(frontera, 'heuristica',\n",
    "                               objetivos=problema.estado_objetivo)\n",
    "        if problema.es_objetivo(nodo.estado):\n",
    "            return nodo\n",
    "        explorados.add(nodo.estado)\n",
    "        if not nodo.acciones:\n",
    "            continue\n",
    "        for nombre_accion in nodo.acciones.keys():\n",
    "            accion = Accion(nombre_accion)\n",
    "            hijo = crea_nodo_hijo(problema, nodo, accion)\n",
    "            estados_frontera = [nodo.estado for nodo in frontera]\n",
    "            if hijo.estado in explorados or hijo.estado in estados_frontera:\n",
    "                buscar = [nodo for nodo in frontera\n",
    "                          if nodo.estado == hijo.estado]\n",
    "                if buscar:\n",
    "                    heuristic_hijo = [hijo.heuristicas[objetivo.nombre]\n",
    "                                      for objetivo\n",
    "                                      in problema.estado_objetivo]\n",
    "                    heuristic_buscar = [buscar[0].heuristicas[objetivo.nombre]\n",
    "                                        for objetivo\n",
    "                                        in problema.estado_objetivo]\n",
    "                    minimo_hijo = min(heuristic_hijo)\n",
    "                    minimo_buscar = min(heuristic_buscar)\n",
    "                    if minimo_hijo < minimo_buscar:\n",
    "                        indice = frontera.index(buscar[0])\n",
    "                        frontera[indice] = hijo\n",
    "            else:\n",
    "                frontera.append(hijo)               "
   ],
   "outputs": [],
   "execution_count": 2
  },
  {
   "cell_type": "markdown",
   "metadata": {},
   "source": [
    "Métodos auxiliares"
   ]
  },
  {
   "cell_type": "code",
   "metadata": {
    "ExecuteTime": {
     "end_time": "2024-04-27T23:08:21.093695Z",
     "start_time": "2024-04-27T23:08:21.085034Z"
    }
   },
   "source": [
    "def crea_nodo_raiz(problema):\n",
    "    estado_raiz = problema.estado_inicial\n",
    "    acciones_raiz = {}\n",
    "    if estado_raiz.nombre in problema.acciones.keys():\n",
    "        acciones_raiz = problema.acciones[estado_raiz.nombre]\n",
    "    raiz = Nodo(estado_raiz, None, acciones_raiz, None)\n",
    "    raiz.costo = 0\n",
    "    raiz.heuristicas = problema.heuristicas[estado_raiz.nombre]\n",
    "    raiz.valores = dict(raiz.heuristicas.items())\n",
    "    return raiz\n",
    "\n",
    "def crea_nodo_hijo(problema, padre, accion, agregar = True):\n",
    "    nuevo_estado = problema.resultado(padre.estado, accion)\n",
    "    acciones_nuevo = {}\n",
    "    if nuevo_estado.nombre in problema.acciones.keys():\n",
    "        acciones_nuevo = problema.acciones[nuevo_estado.nombre]\n",
    "    hijo = Nodo(nuevo_estado, accion, acciones_nuevo, padre)\n",
    "    costo = padre.costo\n",
    "    costo += problema.costo_accion(padre.estado, accion)\n",
    "    hijo.costo = costo\n",
    "    hijo.heuristicas = problema.heuristicas[hijo.estado.nombre]\n",
    "    hijo.valores = {estado: heuristica + hijo.costo for estado, heuristica in hijo.heuristicas.items()}\n",
    "    if agregar:\n",
    "        hijo.padre = padre\n",
    "        padre.hijos.append(hijo)\n",
    "    return hijo\n",
    "\n",
    "def sacar_siguiente(frontera, metrica = 'valor', criterio = 'menor', objetivos = None):\n",
    "    mejor = frontera[0]\n",
    "    for nodo in frontera[1:]:\n",
    "        for objetivo in objetivos:\n",
    "            if metrica == 'valor':\n",
    "                valor_nodo = nodo.valores[objetivo.nombre]\n",
    "                valor_mejor = mejor.valores[objetivo.nombre]\n",
    "                if(criterio == 'menor' and\n",
    "                   valor_nodo < valor_mejor):\n",
    "                    mejor = nodo\n",
    "                elif(criterio == 'mayor' and\n",
    "                     valor_nodo > valor_mejor):\n",
    "                    mejor = nodo\n",
    "            elif metrica == 'heuristica':\n",
    "                heuristica_nodo = nodo.heuristicas[objetivo.nombre]\n",
    "                heuristica_mejor = mejor.heuristicas[objetivo.nombre]\n",
    "                if(criterio == 'menor' and\n",
    "                   heuristica_nodo < heuristica_mejor):\n",
    "                    mejor = nodo\n",
    "                elif(criterio == 'mayor' and\n",
    "                     heuristica_nodo > heuristica_mejor):\n",
    "                    mejor = nodo\n",
    "            elif metrica == 'costo':\n",
    "                if(criterio == 'menor' and\n",
    "                   nodo.costo_camino < mejor.costo_camino):\n",
    "                    mejor = nodo\n",
    "                elif(criterio == 'mayor' and\n",
    "                     nodo.costo_camino > mejor.costo_camino):\n",
    "                    mejor = nodo\n",
    "    frontera.remove(mejor)\n",
    "    return mejor\n",
    "\n",
    "def muestra_solucion(objetivo = None):\n",
    "    if not objetivo:\n",
    "        print(\"No hay solución\")\n",
    "        return\n",
    "    nodo = objetivo\n",
    "    while nodo:\n",
    "        msg = \"Estado {0}, Valor {1}\"\n",
    "        estado = nodo.estado.nombre\n",
    "        valores = [nodo.valores[objetivo.nombre]\n",
    "                   for objetivo\n",
    "                   in problema_resolver.estado_objetivo]\n",
    "        valor = min(valores)\n",
    "        print(msg.format(estado, valor))\n",
    "        msg = \"  Costo: {0}\"\n",
    "        costo_total = nodo.costo\n",
    "        print(msg.format(costo_total))\n",
    "        msg = \"  Heurística: {0}\"\n",
    "        heuristicas_objetivos = [nodo.heuristicas[objetivo.nombre]\n",
    "                                 for objetivo\n",
    "                                 in problema_resolver.estado_objetivo]\n",
    "        heuristica = min(heuristicas_objetivos)\n",
    "        print(msg.format(heuristica))\n",
    "        if nodo.accion:\n",
    "            accion = nodo.accion.nombre\n",
    "            padre = nodo.padre.estado\n",
    "            costo = problema_resolver.costo_accion(padre, nodo.accion)\n",
    "            if accion:\n",
    "                msg = \"<--- {0} [{1}] ---\"\n",
    "                print(msg.format(accion, costo))\n",
    "        nodo = nodo.padre"
   ],
   "outputs": [],
   "execution_count": 3
  },
  {
   "cell_type": "markdown",
   "metadata": {},
   "source": [
    "Crear la estructura de datos"
   ]
  },
  {
   "cell_type": "code",
   "metadata": {
    "ExecuteTime": {
     "end_time": "2024-04-27T23:08:21.100204Z",
     "start_time": "2024-04-27T23:08:21.093695Z"
    }
   },
   "source": [
    "from Datos import Datos\n",
    "\n",
    "if __name__ == '__main__':\n",
    "    datos = Datos()\n",
    "    \n",
    "    # objetivo_1 = [kosos]\n",
    "    # problema_1 = Problema(lanoi, objetivo_1, acciones, costos, heuristicas)\n",
    "\n",
    "    objetivo_2 = [datos.tolu]\n",
    "    problema_2 = Problema(\n",
    "        datos.manizales, \n",
    "        objetivo_2, \n",
    "        datos.acciones, \n",
    "        datos.costos\n",
    "    )\n"
   ],
   "outputs": [],
   "execution_count": 4
  },
  {
   "cell_type": "code",
   "metadata": {
    "ExecuteTime": {
     "end_time": "2024-04-27T23:08:21.263743Z",
     "start_time": "2024-04-27T23:08:21.100204Z"
    }
   },
   "source": [
    "problema_resolver = problema_2\n",
    "solucion = voraz(problema_resolver)\n",
    "muestra_solucion(solucion)"
   ],
   "outputs": [
    {
     "ename": "KeyError",
     "evalue": "'Tolu'",
     "output_type": "error",
     "traceback": [
      "\u001B[1;31m---------------------------------------------------------------------------\u001B[0m",
      "\u001B[1;31mKeyError\u001B[0m                                  Traceback (most recent call last)",
      "Cell \u001B[1;32mIn[5], line 2\u001B[0m\n\u001B[0;32m      1\u001B[0m problema_resolver \u001B[38;5;241m=\u001B[39m problema_2\n\u001B[1;32m----> 2\u001B[0m solucion \u001B[38;5;241m=\u001B[39m \u001B[43mvoraz\u001B[49m\u001B[43m(\u001B[49m\u001B[43mproblema_resolver\u001B[49m\u001B[43m)\u001B[49m\n\u001B[0;32m      3\u001B[0m muestra_solucion(solucion)\n",
      "Cell \u001B[1;32mIn[2], line 8\u001B[0m, in \u001B[0;36mvoraz\u001B[1;34m(problema)\u001B[0m\n\u001B[0;32m      6\u001B[0m \u001B[38;5;28;01mif\u001B[39;00m \u001B[38;5;129;01mnot\u001B[39;00m frontera:\n\u001B[0;32m      7\u001B[0m     \u001B[38;5;28;01mreturn\u001B[39;00m \u001B[38;5;28;01mNone\u001B[39;00m\n\u001B[1;32m----> 8\u001B[0m nodo \u001B[38;5;241m=\u001B[39m \u001B[43msacar_siguiente\u001B[49m\u001B[43m(\u001B[49m\u001B[43mfrontera\u001B[49m\u001B[43m,\u001B[49m\u001B[43m \u001B[49m\u001B[38;5;124;43m'\u001B[39;49m\u001B[38;5;124;43mheuristica\u001B[39;49m\u001B[38;5;124;43m'\u001B[39;49m\u001B[43m,\u001B[49m\n\u001B[0;32m      9\u001B[0m \u001B[43m                       \u001B[49m\u001B[43mobjetivos\u001B[49m\u001B[38;5;241;43m=\u001B[39;49m\u001B[43mproblema\u001B[49m\u001B[38;5;241;43m.\u001B[39;49m\u001B[43mestado_objetivo\u001B[49m\u001B[43m)\u001B[49m\n\u001B[0;32m     10\u001B[0m \u001B[38;5;28;01mif\u001B[39;00m problema\u001B[38;5;241m.\u001B[39mes_objetivo(nodo\u001B[38;5;241m.\u001B[39mestado):\n\u001B[0;32m     11\u001B[0m     \u001B[38;5;28;01mreturn\u001B[39;00m nodo\n",
      "Cell \u001B[1;32mIn[3], line 42\u001B[0m, in \u001B[0;36msacar_siguiente\u001B[1;34m(frontera, metrica, criterio, objetivos)\u001B[0m\n\u001B[0;32m     40\u001B[0m         mejor \u001B[38;5;241m=\u001B[39m nodo\n\u001B[0;32m     41\u001B[0m \u001B[38;5;28;01melif\u001B[39;00m metrica \u001B[38;5;241m==\u001B[39m \u001B[38;5;124m'\u001B[39m\u001B[38;5;124mheuristica\u001B[39m\u001B[38;5;124m'\u001B[39m:\n\u001B[1;32m---> 42\u001B[0m     heuristica_nodo \u001B[38;5;241m=\u001B[39m \u001B[43mnodo\u001B[49m\u001B[38;5;241;43m.\u001B[39;49m\u001B[43mheuristicas\u001B[49m\u001B[43m[\u001B[49m\u001B[43mobjetivo\u001B[49m\u001B[38;5;241;43m.\u001B[39;49m\u001B[43mnombre\u001B[49m\u001B[43m]\u001B[49m\n\u001B[0;32m     43\u001B[0m     heuristica_mejor \u001B[38;5;241m=\u001B[39m mejor\u001B[38;5;241m.\u001B[39mheuristicas[objetivo\u001B[38;5;241m.\u001B[39mnombre]\n\u001B[0;32m     44\u001B[0m     \u001B[38;5;28;01mif\u001B[39;00m(criterio \u001B[38;5;241m==\u001B[39m \u001B[38;5;124m'\u001B[39m\u001B[38;5;124mmenor\u001B[39m\u001B[38;5;124m'\u001B[39m \u001B[38;5;129;01mand\u001B[39;00m\n\u001B[0;32m     45\u001B[0m        heuristica_nodo \u001B[38;5;241m<\u001B[39m heuristica_mejor):\n",
      "\u001B[1;31mKeyError\u001B[0m: 'Tolu'"
     ]
    }
   ],
   "execution_count": 5
  },
  {
   "cell_type": "code",
   "metadata": {
    "ExecuteTime": {
     "end_time": "2024-04-27T23:08:21.264747Z",
     "start_time": "2024-04-27T23:08:21.263911Z"
    }
   },
   "source": [],
   "outputs": [],
   "execution_count": null
  }
 ],
 "metadata": {
  "kernelspec": {
   "display_name": "Python 3",
   "language": "python",
   "name": "python3"
  },
  "language_info": {
   "codemirror_mode": {
    "name": "ipython",
    "version": 3
   },
   "file_extension": ".py",
   "mimetype": "text/x-python",
   "name": "python",
   "nbconvert_exporter": "python",
   "pygments_lexer": "ipython3",
   "version": "3.11.5"
  }
 },
 "nbformat": 4,
 "nbformat_minor": 2
}
