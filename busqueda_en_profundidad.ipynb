{
 "cells": [
  {
   "metadata": {},
   "cell_type": "markdown",
   "source": [
    "# Integrantes\n",
    "Kelly Tatiana Alvarez<br>\n",
    "Eldigardo Camacho"
   ]
  },
  {
   "cell_type": "code",
   "metadata": {
    "ExecuteTime": {
     "end_time": "2024-04-29T01:02:57.155836Z",
     "start_time": "2024-04-29T01:02:57.153516Z"
    }
   },
   "source": [
    "from grafos import Accion\n",
    "from grafos import Nodo\n",
    "from grafos import Problema"
   ],
   "outputs": [],
   "execution_count": 21
  },
  {
   "cell_type": "markdown",
   "metadata": {},
   "source": [
    "Construir la función de ejecución del problema"
   ]
  },
  {
   "cell_type": "code",
   "metadata": {
    "ExecuteTime": {
     "end_time": "2024-04-29T01:02:57.161155Z",
     "start_time": "2024-04-29T01:02:57.156843Z"
    }
   },
   "source": [
    "def profundidad(problema):\n",
    "    raiz = crea_nodo_raiz(problema)\n",
    "    if problema.es_objetivo(raiz.estado):\n",
    "        return raiz\n",
    "    frontera = [raiz,]\n",
    "    explorados = set()\n",
    "    while True:\n",
    "        print('frontera: ', [nodo.estado.nombre for nodo in frontera])\n",
    "        print('explorados: ', [estado.nombre for estado in explorados])\n",
    "        if not frontera:\n",
    "            return None\n",
    "        nodo = frontera.pop()\n",
    "        print('escoge: ', nodo.estado.nombre)\n",
    "        print('-----------')\n",
    "        explorados.add(nodo.estado)\n",
    "        if not nodo.acciones:\n",
    "            continue\n",
    "        for nombre_accion in nodo.acciones.keys():\n",
    "            accion = Accion(nombre_accion)\n",
    "            hijo = crea_nodo_hijo(problema, nodo, accion)\n",
    "            estados_frontera = [nodo.estado for nodo in frontera]\n",
    "            if (hijo.estado not in explorados and hijo.estado not in estados_frontera):\n",
    "                if problema.es_objetivo(hijo.estado):\n",
    "                    return hijo\n",
    "                frontera.append(hijo)"
   ],
   "outputs": [],
   "execution_count": 22
  },
  {
   "cell_type": "markdown",
   "metadata": {},
   "source": [
    "Métodos auxiliares"
   ]
  },
  {
   "cell_type": "code",
   "metadata": {
    "ExecuteTime": {
     "end_time": "2024-04-29T01:02:57.166126Z",
     "start_time": "2024-04-29T01:02:57.162161Z"
    }
   },
   "source": [
    "def crea_nodo_raiz(problema):\n",
    "    estado_raiz = problema.estado_inicial\n",
    "    acciones_raiz = {}\n",
    "    if estado_raiz.nombre in problema.acciones.keys():\n",
    "        acciones_raiz = problema.acciones[estado_raiz.nombre]\n",
    "    raiz = Nodo(estado_raiz, None, acciones_raiz, None)\n",
    "    return raiz\n",
    "\n",
    "def crea_nodo_hijo(problema, padre, accion):\n",
    "    nuevo_estado = problema.resultado(padre.estado, accion)\n",
    "    acciones_nuevo = {}\n",
    "    if nuevo_estado.nombre in problema.acciones.keys():\n",
    "        acciones_nuevo = problema.acciones[nuevo_estado.nombre]\n",
    "    hijo = Nodo(nuevo_estado, accion, acciones_nuevo, padre)\n",
    "    padre.hijos.append(hijo)\n",
    "    return hijo\n",
    "\n",
    "def muestra_solucion(objetivo = None):\n",
    "    if not objetivo:\n",
    "        print('No hay solución')\n",
    "        return\n",
    "    nodo = objetivo\n",
    "    while nodo:\n",
    "        msg = \"Estado: {0}\"\n",
    "        print(msg.format(nodo.estado.nombre))\n",
    "        if nodo.accion:\n",
    "            msg = \"<--- {0} --->\"\n",
    "            print(msg.format(nodo.accion.nombre))\n",
    "        nodo = nodo.padre"
   ],
   "outputs": [],
   "execution_count": 23
  },
  {
   "cell_type": "markdown",
   "metadata": {},
   "source": [
    "Crear la estructura de datos"
   ]
  },
  {
   "cell_type": "code",
   "metadata": {
    "ExecuteTime": {
     "end_time": "2024-04-29T01:02:57.171307Z",
     "start_time": "2024-04-29T01:02:57.168359Z"
    }
   },
   "source": [
    "from Datos import Datos\n",
    "\n",
    "if __name__ == '__main__':\n",
    "    datos = Datos()\n",
    "    \n",
    "    objetivo_1 = [datos.tolu]\n",
    "    problema_1 = Problema(datos.manizales, objetivo_1, datos.acciones)"
   ],
   "outputs": [],
   "execution_count": 24
  },
  {
   "cell_type": "code",
   "metadata": {
    "ExecuteTime": {
     "end_time": "2024-04-29T01:02:57.201589Z",
     "start_time": "2024-04-29T01:02:57.198032Z"
    }
   },
   "source": [
    "problema_resolver = problema_1\n",
    "solucion = profundidad(problema_resolver)\n",
    "muestra_solucion(solucion)"
   ],
   "outputs": [
    {
     "name": "stdout",
     "output_type": "stream",
     "text": [
      "frontera:  ['Manizales']\n",
      "explorados:  []\n",
      "escoge:  Manizales\n",
      "-----------\n",
      "frontera:  ['Medellin']\n",
      "explorados:  ['Manizales']\n",
      "escoge:  Medellin\n",
      "-----------\n",
      "frontera:  ['Santa Fe', 'Barbosa']\n",
      "explorados:  ['Manizales', 'Medellin']\n",
      "escoge:  Barbosa\n",
      "-----------\n",
      "frontera:  ['Santa Fe', 'Yarumal', 'Cisneros']\n",
      "explorados:  ['Barbosa', 'Manizales', 'Medellin']\n",
      "escoge:  Cisneros\n",
      "-----------\n",
      "frontera:  ['Santa Fe', 'Yarumal', 'Maceo']\n",
      "explorados:  ['Barbosa', 'Manizales', 'Cisneros', 'Medellin']\n",
      "escoge:  Maceo\n",
      "-----------\n",
      "frontera:  ['Santa Fe', 'Yarumal', 'Remedios']\n",
      "explorados:  ['Manizales', 'Cisneros', 'Medellin', 'Maceo', 'Barbosa']\n",
      "escoge:  Remedios\n",
      "-----------\n",
      "frontera:  ['Santa Fe', 'Yarumal', 'Caucasia', 'Amalfi']\n",
      "explorados:  ['Manizales', 'Cisneros', 'Medellin', 'Remedios', 'Maceo', 'Barbosa']\n",
      "escoge:  Amalfi\n",
      "-----------\n",
      "frontera:  ['Santa Fe', 'Yarumal', 'Caucasia']\n",
      "explorados:  ['Manizales', 'Cisneros', 'Medellin', 'Remedios', 'Amalfi', 'Maceo', 'Barbosa']\n",
      "escoge:  Caucasia\n",
      "-----------\n",
      "frontera:  ['Santa Fe', 'Yarumal', 'Planeta Rica']\n",
      "explorados:  ['Manizales', 'Cisneros', 'Medellin', 'Remedios', 'Amalfi', 'Maceo', 'Caucasia', 'Barbosa']\n",
      "escoge:  Planeta Rica\n",
      "-----------\n",
      "frontera:  ['Santa Fe', 'Yarumal', 'Monteria', 'Sahagun']\n",
      "explorados:  ['Manizales', 'Cisneros', 'Medellin', 'Remedios', 'Amalfi', 'Planeta Rica', 'Maceo', 'Caucasia', 'Barbosa']\n",
      "escoge:  Sahagun\n",
      "-----------\n",
      "frontera:  ['Santa Fe', 'Yarumal', 'Monteria', 'Cienaga', 'Sincelejo']\n",
      "explorados:  ['Manizales', 'Cisneros', 'Sahagun', 'Medellin', 'Remedios', 'Amalfi', 'Planeta Rica', 'Maceo', 'Caucasia', 'Barbosa']\n",
      "escoge:  Sincelejo\n",
      "-----------\n",
      "Estado: Tolu\n",
      "<--- NO --->\n",
      "Estado: Sincelejo\n",
      "<--- N --->\n",
      "Estado: Sahagun\n",
      "<--- N --->\n",
      "Estado: Planeta Rica\n",
      "<--- NO --->\n",
      "Estado: Caucasia\n",
      "<--- NO --->\n",
      "Estado: Remedios\n",
      "<--- N --->\n",
      "Estado: Maceo\n",
      "<--- E --->\n",
      "Estado: Cisneros\n",
      "<--- NE --->\n",
      "Estado: Barbosa\n",
      "<--- NE --->\n",
      "Estado: Medellin\n",
      "<--- N --->\n",
      "Estado: Manizales\n"
     ]
    }
   ],
   "execution_count": 25
  }
 ],
 "metadata": {
  "kernelspec": {
   "display_name": "Python 3",
   "language": "python",
   "name": "python3"
  },
  "language_info": {
   "codemirror_mode": {
    "name": "ipython",
    "version": 3
   },
   "file_extension": ".py",
   "mimetype": "text/x-python",
   "name": "python",
   "nbconvert_exporter": "python",
   "pygments_lexer": "ipython3",
   "version": "3.11.5"
  }
 },
 "nbformat": 4,
 "nbformat_minor": 2
}
